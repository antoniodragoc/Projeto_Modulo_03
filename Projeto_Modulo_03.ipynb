{
 "metadata": {
  "language_info": {
   "codemirror_mode": {
    "name": "ipython",
    "version": 3
   },
   "file_extension": ".py",
   "mimetype": "text/x-python",
   "name": "python",
   "nbconvert_exporter": "python",
   "pygments_lexer": "ipython3",
   "version": "3.8.5"
  },
  "orig_nbformat": 4,
  "kernelspec": {
   "name": "python3",
   "display_name": "Python 3.8.5 64-bit ('base': conda)"
  },
  "interpreter": {
   "hash": "b3ba2566441a7c06988d0923437866b63cedc61552a5af99d1f4fb67d367b25f"
  }
 },
 "nbformat": 4,
 "nbformat_minor": 2,
 "cells": [
  {
   "source": [
    "# Desafio Módulo 3 - Bootcamp Alura Data Science Aplicada 2\n",
    "\n",
    "## Evolução da COVID-19 no Estado do Espírito Santo\n",
    "\n",
    "![](https://www.es.gov.br/Media/PortalES/_Profiles/49c92637/35750552/e08ebe350a0c4f89ab48016feb017862-0001.jpg?v=637608860709167783)"
   ],
   "cell_type": "markdown",
   "metadata": {}
  },
  {
   "source": [
    "# Antonio Drago Caetano\n",
    "https://www.linkedin.com/in/antoniodragoc/\n",
    "\n",
    "https://github.com/dragoc1"
   ],
   "cell_type": "markdown",
   "metadata": {}
  },
  {
   "source": [
    "# Introdução\n",
    "\n",
    "A partir de março de 2020, quando a Organização Mundial de Saúde (OMS) declarou ao mundo que a COVID-19, doença que é causada pelo novo corona vírus (Sars-CoV-2) e teve seus primeiros casos três meses antes na cidade de Wuhan, na China, tinha se tornado uma pandemia e desde então temos vivido um quadro sanitário que não era visto desde a gripe espanhola no ano de 1918.\n",
    "\n",
    "Hoje, o mundo se encontra com mais de 180 milhões de casos com aproximadamente 4 milhões de mortes causadas pela doença. No Brasil, segundo a Johns Hopkins University, apresenta mais de 18 milhões de casos e 520 mil mortes, uma letalidade de 2,88%, números muitos ruins quando comparados com o restante do mundo."
   ],
   "cell_type": "markdown",
   "metadata": {}
  },
  {
   "source": [
    "## Entendendo o contexto\n",
    "\n",
    "No início do Bootcamp de Data Science Aplicada, como projeto do primeiro módulo foi feita uma análise da COVID-19 no Brasil, separando os dados por regiões e também os estados com maiores números de casos e mortes.\n",
    "\n",
    "link do projeto:   https://github.com/dragoc1/Bootcamp_Data_Science_Aplicada/blob/main/Modulo01/Projeto%20Modulo%2001/desafio_modulo01.ipynb.\n",
    "\n",
    "Na época o número de casos e de mortes estava em uma crescente nunca vista, superando o pico anterior da doença que tinha sido no mês de Julho de 2020, onde a média móvel de mortes superou pela primeira vez 1000 mortes, na época, achavamos que não tinha como piorar, porém, infelizmente estavamos enganados, pois no ano de 2021 em nenhum momento a média móvel de mortes ficou abaixo de 1000 atingindo mais de 3500 mortes em meados de Abril de 2021.\n"
   ],
   "cell_type": "markdown",
   "metadata": {}
  },
  {
   "source": [
    "# Objetivos e análises\n",
    "\n",
    "Entender a evolução da pandemia no território nacional e também no Estado do Espírito Santo que mesmo sendo um estado pequeno e não tão relevante para o número total de casos pode ser tomado como exemplo de boa gestão do governo estadual no combate da doença. O Estado apresenta hoje o número de 520 mil casos de Covid-19 com 11.520 mortes causadas pela doença, uma letalidade de 2,22%, número menor que a média nacional.\n",
    "\n",
    "Iremos analisar o comportamento da doença até aqui, número de casos, número de mortes e como a vacinação vem impactando nos números da doença"
   ],
   "cell_type": "markdown",
   "metadata": {}
  },
  {
   "source": [
    "# Obtenção dos dados\n",
    "\n",
    "Assim como no primeiro projeto do curso, os dados utilizados serão obtidos da plataforma [Brail.io](https://brasil.io/covid19) \n",
    "\n"
   ],
   "cell_type": "markdown",
   "metadata": {}
  },
  {
   "source": [
    "# Importação das Bibliotecas"
   ],
   "cell_type": "markdown",
   "metadata": {}
  },
  {
   "cell_type": "code",
   "execution_count": 1,
   "metadata": {},
   "outputs": [],
   "source": [
    "import pandas as pd\n",
    "import numpy as np\n",
    "import matplotlib.pyplot as plt\n",
    "import matplotlib.ticker as ticker\n",
    "import matplotlib.dates as mdates\n",
    "from matplotlib.dates import YearLocator, MonthLocator, DateFormatter\n",
    "from matplotlib.ticker import NullFormatter\n",
    "import seaborn as sns\n",
    "import warnings\n",
    "import datetime\n",
    "from datetime import datetime, date\n",
    "\n",
    "#ignorar os avisos do python\n",
    "warnings.filterwarnings('ignore')\n",
    "# Fomatação do Pandas\n",
    "#pd.options.display.float_format='{:.2f}'.format"
   ]
  },
  {
   "cell_type": "code",
   "execution_count": null,
   "metadata": {},
   "outputs": [],
   "source": []
  },
  {
   "cell_type": "code",
   "execution_count": null,
   "metadata": {},
   "outputs": [],
   "source": []
  },
  {
   "source": [
    "# Referências\n",
    "\n",
    "[[1]](https://www.es.gov.br/Noticia/governo-do-espirito-santo-divulga-62o-mapa-de-risco-covid-19) 62º Mapa de Risco Covid-19\n",
    "\n",
    "[[2]](https://www.scielosp.org/article/csc/2020.v25n9/3401-3411) COVID-19 e os impactos na saúde mental: uma amostra do Rio Grande do Sul, Brasil\n",
    "\n"
   ],
   "cell_type": "markdown",
   "metadata": {}
  }
 ]
}